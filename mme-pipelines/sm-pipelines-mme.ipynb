{
 "cells": [
  {
   "cell_type": "markdown",
   "id": "82f46d9b-e08e-4d40-9a58-f99fadfd203c",
   "metadata": {},
   "source": [
    "## Multi-Model Endpoints With SageMaker Pipelines\n",
    "\n",
    "In this example we take a look at how we can train and deploy a Multi-Model Endpoint (MME) utilizing SageMaker Pipelines. We will train two sample XGBoost models on the same dataset, both will have different hyperparameters. For a real-world use-case you can scale this up to your appropriate number of training jobs, please check AWS limits for how many concurrent training jobs you can run via Pipelines at the same time.\n",
    "\n",
    "At the moment MME is not supported out of the box via SageMaker Pipelines, we will thus utilize a Lambda step to create a MME after extracting the training artifacts from our two jobs."
   ]
  },
  {
   "cell_type": "markdown",
   "id": "0e25bc0d-8eb0-4282-83fe-20e9cf2d26bb",
   "metadata": {},
   "source": [
    "### Imports"
   ]
  },
  {
   "cell_type": "code",
   "execution_count": null,
   "id": "cc8347ac-089e-4221-b889-841812f9d99e",
   "metadata": {},
   "outputs": [],
   "source": [
    "import os\n",
    "import boto3\n",
    "import re\n",
    "import time\n",
    "import json\n",
    "from sagemaker import get_execution_role, session\n",
    "import pandas as pd\n",
    "\n",
    "from time import gmtime, strftime\n",
    "import sagemaker\n",
    "from sagemaker.model import Model\n",
    "from sagemaker.image_uris import retrieve\n",
    "from sagemaker.workflow.pipeline_context import PipelineSession\n",
    "from sagemaker.workflow.model_step import ModelStep\n",
    "from sagemaker.inputs import TrainingInput\n",
    "from sagemaker.workflow.steps import TrainingStep\n",
    "from sagemaker.workflow.parameters import ParameterString\n",
    "from sagemaker.estimator import Estimator\n",
    "\n",
    "region = boto3.Session().region_name\n",
    "sagemaker_session = sagemaker.Session()\n",
    "s3_prefix = 'xgboost-example'\n",
    "role = sagemaker.get_execution_role()\n",
    "default_bucket = sagemaker_session.default_bucket()\n",
    "print(\"RoleArn: {}\".format(role))\n",
    "\n",
    "# Custom Lambda Step\n",
    "from sagemaker.workflow.lambda_step import (\n",
    "    LambdaStep,\n",
    "    LambdaOutput,\n",
    "    LambdaOutputTypeEnum,\n",
    ")\n",
    "from sagemaker.lambda_helper import Lambda\n",
    "from sagemaker.workflow.pipeline import Pipeline"
   ]
  },
  {
   "cell_type": "markdown",
   "id": "53f333bd-ee3c-43be-a4b1-5d70613ba014",
   "metadata": {},
   "source": [
    "### Setup\n",
    "\n",
    "Create Pipeline Session and any necessary Parameters. We retrieve the training dataset and define the training instance type and define these as two parameters for the model."
   ]
  },
  {
   "cell_type": "code",
   "execution_count": null,
   "id": "0be90a35-b23e-4030-a966-dd2f6362b102",
   "metadata": {},
   "outputs": [],
   "source": [
    "pipeline_session = PipelineSession()"
   ]
  },
  {
   "cell_type": "code",
   "execution_count": null,
   "id": "3826ec66-bc09-420b-9bff-38e8e936fea0",
   "metadata": {
    "tags": []
   },
   "outputs": [],
   "source": [
    "!aws s3 cp s3://sagemaker-sample-files/datasets/tabular/uci_abalone/train_csv/abalone_dataset1_train.csv ."
   ]
  },
  {
   "cell_type": "code",
   "execution_count": null,
   "id": "49d3ad61-5ba9-4961-b009-db832bd5f1b7",
   "metadata": {
    "tags": []
   },
   "outputs": [],
   "source": [
    "!aws s3 cp abalone_dataset1_train.csv s3://{default_bucket}/xgboost-regression/train.csv"
   ]
  },
  {
   "cell_type": "code",
   "execution_count": null,
   "id": "ef7a7511-4ab1-4e60-a736-1e5799212de9",
   "metadata": {
    "tags": []
   },
   "outputs": [],
   "source": [
    "training_path = 's3://{}/xgboost-regression/train.csv'.format(default_bucket)\n",
    "training_path"
   ]
  },
  {
   "cell_type": "code",
   "execution_count": null,
   "id": "0bfcf16e-9c84-4aff-beeb-fdfcfaf71d55",
   "metadata": {
    "tags": []
   },
   "outputs": [],
   "source": [
    "training_input_param = ParameterString(\n",
    "    name = \"training_input\",\n",
    "    default_value=training_path,\n",
    ")\n",
    "\n",
    "training_instance_param = ParameterString(\n",
    "    name = \"training_instance\",\n",
    "    default_value = \"ml.c5.xlarge\")"
   ]
  },
  {
   "cell_type": "code",
   "execution_count": null,
   "id": "443487fc-6e2e-46cd-8a52-e66900e5a8ed",
   "metadata": {
    "tags": []
   },
   "outputs": [],
   "source": [
    "model_path = f's3://{default_bucket}/{s3_prefix}/xgb_model'\n",
    "\n",
    "image_uri = sagemaker.image_uris.retrieve(\n",
    "    framework=\"xgboost\",\n",
    "    region=region,\n",
    "    version=\"1.0-1\",\n",
    "    py_version=\"py3\",\n",
    "    instance_type=training_instance_param,\n",
    ")\n",
    "\n",
    "image_uri"
   ]
  },
  {
   "cell_type": "markdown",
   "id": "ca8e2f89-eebf-430c-b648-966fa6d6ff3d",
   "metadata": {},
   "source": [
    "### Configure Training"
   ]
  },
  {
   "cell_type": "code",
   "execution_count": null,
   "id": "d022d692-5666-41d5-b42c-3d1e3a39be45",
   "metadata": {
    "tags": []
   },
   "outputs": [],
   "source": [
    "xgb_train_one = Estimator(\n",
    "    image_uri=image_uri,\n",
    "    instance_type=training_instance_param,\n",
    "    instance_count=1,\n",
    "    output_path=model_path,\n",
    "    sagemaker_session=pipeline_session,\n",
    "    role=role\n",
    ")\n",
    "\n",
    "xgb_train_one.set_hyperparameters(\n",
    "    objective=\"reg:linear\",\n",
    "    num_round=40,\n",
    "    max_depth=4,\n",
    "    eta=0.1,\n",
    "    gamma=3,\n",
    "    min_child_weight=5,\n",
    "    subsample=0.6,\n",
    "    silent=0,\n",
    ")"
   ]
  },
  {
   "cell_type": "code",
   "execution_count": null,
   "id": "553be43c-4f1e-4ad7-8148-521a4f5cea4a",
   "metadata": {
    "tags": []
   },
   "outputs": [],
   "source": [
    "xgb_train_two = Estimator(\n",
    "    image_uri=image_uri,\n",
    "    instance_type=training_instance_param,\n",
    "    instance_count=1,\n",
    "    output_path=model_path,\n",
    "    sagemaker_session=pipeline_session,\n",
    "    role=role\n",
    ")\n",
    "\n",
    "#adjusting hyperparams\n",
    "xgb_train_two.set_hyperparameters(\n",
    "    objective=\"reg:linear\",\n",
    "    num_round=50,\n",
    "    max_depth=5,\n",
    "    eta=0.2,\n",
    "    gamma=4,\n",
    "    min_child_weight=6,\n",
    "    subsample=0.7,\n",
    "    silent=0,\n",
    ")"
   ]
  },
  {
   "cell_type": "code",
   "execution_count": null,
   "id": "229fb670-bf12-4ac6-9ff9-59bc237ec140",
   "metadata": {
    "tags": []
   },
   "outputs": [],
   "source": [
    "train_args_one = xgb_train_one.fit(\n",
    "    inputs={\n",
    "        \"train\": TrainingInput(\n",
    "            s3_data=training_input_param,\n",
    "            content_type=\"text/csv\",\n",
    "        )\n",
    "    }\n",
    ")\n",
    "\n",
    "train_args_two = xgb_train_two.fit(\n",
    "    inputs={\n",
    "        \"train\": TrainingInput(\n",
    "            s3_data=training_input_param,\n",
    "            content_type=\"text/csv\",\n",
    "        )\n",
    "    }\n",
    ")"
   ]
  },
  {
   "cell_type": "code",
   "execution_count": null,
   "id": "7ae58735-6355-464b-aee5-9e426ee5179f",
   "metadata": {
    "tags": []
   },
   "outputs": [],
   "source": [
    "step_train_one = TrainingStep(\n",
    "    name=\"TrainOne\",\n",
    "    step_args=train_args_one,\n",
    ")\n",
    "\n",
    "step_train_two = TrainingStep(\n",
    "    name = \"TrainTwo\",\n",
    "    step_args= train_args_two\n",
    ")"
   ]
  },
  {
   "cell_type": "markdown",
   "id": "5ded062d-55ef-4019-a275-c77447d4acb8",
   "metadata": {},
   "source": [
    "### Lambda Step"
   ]
  },
  {
   "cell_type": "markdown",
   "id": "bfc9e771-e8be-4156-ab49-344c2185fa9e",
   "metadata": {},
   "source": [
    "#### IAM Helper\n",
    "\n",
    "We can grab an existing IAM script from this [example](https://github.com/aws/amazon-sagemaker-examples/blob/main/sagemaker-pipelines/tabular/lambda-step/iam_helper.py) that essentially gives our Lambda permissions to work with SageMaker."
   ]
  },
  {
   "cell_type": "code",
   "execution_count": null,
   "id": "f7aeac9f-372c-49f6-b459-341fa195dde3",
   "metadata": {
    "tags": []
   },
   "outputs": [],
   "source": [
    "%%writefile iam_helper.py\n",
    "\n",
    "import boto3\n",
    "import json\n",
    "\n",
    "iam = boto3.client(\"iam\")\n",
    "\n",
    "\n",
    "def create_lambda_role(role_name):\n",
    "    try:\n",
    "        response = iam.create_role(\n",
    "            RoleName=role_name,\n",
    "            AssumeRolePolicyDocument=json.dumps(\n",
    "                {\n",
    "                    \"Version\": \"2012-10-17\",\n",
    "                    \"Statement\": [\n",
    "                        {\n",
    "                            \"Effect\": \"Allow\",\n",
    "                            \"Principal\": {\"Service\": \"lambda.amazonaws.com\"},\n",
    "                            \"Action\": \"sts:AssumeRole\",\n",
    "                        }\n",
    "                    ],\n",
    "                }\n",
    "            ),\n",
    "            Description=\"Role for Lambda to call SageMaker functions\",\n",
    "        )\n",
    "\n",
    "        role_arn = response[\"Role\"][\"Arn\"]\n",
    "\n",
    "        response = iam.attach_role_policy(\n",
    "            RoleName=role_name,\n",
    "            PolicyArn=\"arn:aws:iam::aws:policy/service-role/AWSLambdaBasicExecutionRole\",\n",
    "        )\n",
    "\n",
    "        response = iam.attach_role_policy(\n",
    "            PolicyArn=\"arn:aws:iam::aws:policy/AmazonSageMakerFullAccess\", RoleName=role_name\n",
    "        )\n",
    "\n",
    "        return role_arn\n",
    "\n",
    "    except iam.exceptions.EntityAlreadyExistsException:\n",
    "        print(f\"Using ARN from existing role: {role_name}\")\n",
    "        response = iam.get_role(RoleName=role_name)\n",
    "        return response[\"Role\"][\"Arn\"]"
   ]
  },
  {
   "cell_type": "code",
   "execution_count": null,
   "id": "f6ff2eb4-ed91-4ca1-a68f-879826bb74dd",
   "metadata": {
    "tags": []
   },
   "outputs": [],
   "source": [
    "from iam_helper import create_lambda_role\n",
    "\n",
    "lambda_role = create_lambda_role(\"lambda-deployment-role\")"
   ]
  },
  {
   "cell_type": "markdown",
   "id": "6af12caf-fd7c-4809-b506-a9edc7843e8d",
   "metadata": {},
   "source": [
    "### Lambda Function\n",
    "\n",
    "Here we configure our Lambda function to deploy the MME from the two models we trained. "
   ]
  },
  {
   "cell_type": "code",
   "execution_count": null,
   "id": "2b0d35b6-658b-4c32-b5d2-d47619496d42",
   "metadata": {
    "tags": []
   },
   "outputs": [],
   "source": [
    "!mkdir code"
   ]
  },
  {
   "cell_type": "code",
   "execution_count": null,
   "id": "794d13c2-8c04-4b73-b62f-53f78ae68f89",
   "metadata": {},
   "outputs": [],
   "source": [
    "%%writefile code/lambda_helper.py\n",
    "\n",
    "\"\"\"\n",
    "The Lambda function extracts the two model.tar.gz from the training jobs and places them in a singular S3 location as \n",
    "needed for MME. We then deploy a real-time SageMaker MME utilizing boto3.\n",
    "\"\"\"\n",
    "\n",
    "import json\n",
    "import boto3\n",
    "from time import gmtime, strftime\n",
    "\n",
    "sm_client = boto3.client(\"sagemaker\")\n",
    "s3 = boto3.resource('s3')\n",
    "\n",
    "def extract_bucket_key(model_data):\n",
    "    \"\"\"\n",
    "    Extracts the bucket and key from the model data tarballs that we are passing in\n",
    "    \"\"\"\n",
    "    bucket = model_data.split('/', 3)[2]\n",
    "    key = model_data.split('/', 3)[-1]\n",
    "    return [bucket, key]\n",
    "\n",
    "def create_mme_dir(model_data_dir):\n",
    "    \"\"\"\n",
    "    Takes in a list of lists with the different trained models, \n",
    "    creates a central S3 bucket/key location with all model artifacts for MME.\n",
    "    \"\"\"\n",
    "    bucket_name = model_data_dir[0][0]\n",
    "    for i, model_data in enumerate(model_data_dir):\n",
    "        copy_source = {\n",
    "              'Bucket': bucket_name,\n",
    "              'Key': model_data[1]\n",
    "            }\n",
    "        bucket = s3.Bucket(bucket_name)\n",
    "        destination_key = 'xgboost-mme-pipelines/model-{}.tar.gz'.format(i)\n",
    "        bucket.copy(copy_source, destination_key)\n",
    "    mme_s3_path = 's3://{}/xgboost-mme-pipelines/'.format(bucket_name)\n",
    "    return mme_s3_path\n",
    "    \n",
    "def lambda_handler(event, context):\n",
    "    \"\"\" \"\"\"\n",
    "    \n",
    "    model_artifacts_one = event[\"model_artifacts_one\"]\n",
    "    model_artifacts_two = event[\"model_artifacts_two\"]\n",
    "    \n",
    "    #Extract S3 metadata of trained artifacts\n",
    "    model_data_one = extract_bucket_key(model_artifacts_one)\n",
    "    model_data_two = extract_bucket_key(model_artifacts_two)\n",
    "    model_data_dir = [model_data_one, model_data_two]\n",
    "    \n",
    "    #Create a central S3 path with all model tarballs\n",
    "    model_url = create_mme_dir(model_data_dir)\n",
    "    image_uri = '683313688378.dkr.ecr.us-east-1.amazonaws.com/sagemaker-xgboost:1.0-1-cpu-py3'\n",
    "    \n",
    "    \n",
    "    model_name = 'mme-source' + strftime(\"%Y-%m-%d-%H-%M-%S\", gmtime())\n",
    "    create_model_response = sm_client.create_model(\n",
    "        ModelName=model_name,\n",
    "        Containers=[\n",
    "            {\n",
    "                \"Image\": image_uri,\n",
    "                \"Mode\": \"MultiModel\",\n",
    "                \"ModelDataUrl\": model_url\n",
    "            }\n",
    "        ],\n",
    "        #to-do parameterize this\n",
    "        ExecutionRoleArn='arn:aws:iam::474422712127:role/sagemaker-role-BYOC',\n",
    "    )\n",
    "    print(\"Model Arn: \" + create_model_response[\"ModelArn\"])\n",
    "    \n",
    "    \n",
    "    #Step 2: EPC Creation\n",
    "    xgboost_epc_name = \"mme-source\" + strftime(\"%Y-%m-%d-%H-%M-%S\", gmtime())\n",
    "    endpoint_config_response = sm_client.create_endpoint_config(\n",
    "        EndpointConfigName=xgboost_epc_name,\n",
    "        ProductionVariants=[\n",
    "            {\n",
    "                \"VariantName\": \"xgbvariant\",\n",
    "                \"ModelName\": model_name,\n",
    "                \"InstanceType\": \"ml.c5.large\",\n",
    "                \"InitialInstanceCount\": 1\n",
    "            },\n",
    "        ],\n",
    "    )\n",
    "    print(\"Endpoint Configuration Arn: \" + endpoint_config_response[\"EndpointConfigArn\"])\n",
    "    \n",
    "    #Step 3: EP Creation\n",
    "    endpoint_name = \"mme-source\" + strftime(\"%Y-%m-%d-%H-%M-%S\", gmtime())\n",
    "    create_endpoint_response = sm_client.create_endpoint(\n",
    "        EndpointName=endpoint_name,\n",
    "        EndpointConfigName=xgboost_epc_name,\n",
    "    )\n",
    "    print(\"Endpoint Arn: \" + create_endpoint_response[\"EndpointArn\"])\n",
    "    \n",
    "\n",
    "    return {\n",
    "        \"statusCode\": 200,\n",
    "        \"body\": json.dumps(\"Created Endpoint!\"),\n",
    "        \"endpoint_name\": endpoint_name\n",
    "    }"
   ]
  },
  {
   "cell_type": "code",
   "execution_count": null,
   "id": "55bc9ed1-7d92-456b-9246-5e1d020370eb",
   "metadata": {
    "tags": []
   },
   "outputs": [],
   "source": [
    "current_time = time.strftime(\"%m-%d-%H-%M-%S\", time.localtime())\n",
    "\n",
    "function_name = \"sagemaker-lambda-step-endpoint-deploy-\" + current_time\n",
    "\n",
    "# Lambda helper class can be used to create the Lambda function\n",
    "func = Lambda(\n",
    "    function_name=function_name,\n",
    "    execution_role_arn=lambda_role,\n",
    "    script=\"code/lambda_helper.py\",\n",
    "    handler=\"lambda_helper.lambda_handler\",\n",
    ")\n",
    "\n",
    "output_param_1 = LambdaOutput(output_name=\"statusCode\", output_type=LambdaOutputTypeEnum.String)\n",
    "output_param_2 = LambdaOutput(output_name=\"body\", output_type=LambdaOutputTypeEnum.String)\n",
    "output_param_3 = LambdaOutput(output_name=\"endpoint_name\", output_type=LambdaOutputTypeEnum.String)\n",
    "\n",
    "step_deploy_lambda = LambdaStep(\n",
    "    name=\"LambdaStep\",\n",
    "    lambda_func=func,\n",
    "    inputs={\n",
    "        \"model_artifacts_one\": step_train_one.properties.ModelArtifacts.S3ModelArtifacts,\n",
    "        \"model_artifacts_two\": step_train_two.properties.ModelArtifacts.S3ModelArtifacts\n",
    "    },\n",
    "    outputs=[output_param_1, output_param_2, output_param_3],\n",
    ")"
   ]
  },
  {
   "cell_type": "code",
   "execution_count": null,
   "id": "3b7ff7cf-79d0-4815-a27f-08e9c177fd41",
   "metadata": {
    "tags": []
   },
   "outputs": [],
   "source": [
    "pipeline = Pipeline(\n",
    "    name=\"mme-pipeline\",\n",
    "    steps=[step_train_one, step_train_two, step_deploy_lambda],\n",
    "    parameters= [training_input_param, training_instance_param]\n",
    ")"
   ]
  },
  {
   "cell_type": "markdown",
   "id": "e3967185-2f6a-4659-a08b-a98d8781ebaa",
   "metadata": {},
   "source": [
    "### Pipeline Execution"
   ]
  },
  {
   "cell_type": "code",
   "execution_count": null,
   "id": "c66ae24c-f82c-4447-84e5-ac25dd72e6dd",
   "metadata": {
    "tags": []
   },
   "outputs": [],
   "source": [
    "pipeline.upsert(role_arn=role)"
   ]
  },
  {
   "cell_type": "code",
   "execution_count": null,
   "id": "682f00ee-8908-471b-90c3-5a3cf3e9fd87",
   "metadata": {},
   "outputs": [],
   "source": [
    "execution = pipeline.start()"
   ]
  },
  {
   "cell_type": "code",
   "execution_count": null,
   "id": "64950d67-b947-48a3-8a7e-8112c56aecf4",
   "metadata": {
    "tags": []
   },
   "outputs": [],
   "source": [
    "execution.wait()"
   ]
  },
  {
   "cell_type": "markdown",
   "id": "878796a1-5b75-471c-9aba-6ab52c08a95e",
   "metadata": {},
   "source": [
    "### Sample Inference"
   ]
  },
  {
   "cell_type": "code",
   "execution_count": null,
   "id": "234d9e90-88d8-4f3d-9bc8-dbb26e410064",
   "metadata": {
    "tags": []
   },
   "outputs": [],
   "source": [
    "endpoint_name = execution.list_steps()[0]['Metadata']['Lambda']['OutputParameters'][0]['Value']\n",
    "endpoint_name"
   ]
  },
  {
   "cell_type": "code",
   "execution_count": null,
   "id": "51ee23fb-b574-421b-8e7d-bee36d18d684",
   "metadata": {},
   "outputs": [],
   "source": [
    "import boto3\n",
    "smr = boto3.client('sagemaker-runtime') #client for inference"
   ]
  },
  {
   "cell_type": "code",
   "execution_count": null,
   "id": "379e8b1d-9ce1-480b-8be2-f2c82805a4b1",
   "metadata": {},
   "outputs": [],
   "source": [
    "resp = smr.invoke_endpoint(EndpointName=endpoint_name, Body=b'.345,0.224414,.131102,0.042329,.279923,-0.110329,-0.099358,0.0', \n",
    "                           ContentType='text/csv', TargetModel = 'model-0.tar.gz')\n",
    "\n",
    "print(resp['Body'].read())"
   ]
  }
 ],
 "metadata": {
  "availableInstances": [
   {
    "_defaultOrder": 0,
    "_isFastLaunch": true,
    "category": "General purpose",
    "gpuNum": 0,
    "hideHardwareSpecs": false,
    "memoryGiB": 4,
    "name": "ml.t3.medium",
    "vcpuNum": 2
   },
   {
    "_defaultOrder": 1,
    "_isFastLaunch": false,
    "category": "General purpose",
    "gpuNum": 0,
    "hideHardwareSpecs": false,
    "memoryGiB": 8,
    "name": "ml.t3.large",
    "vcpuNum": 2
   },
   {
    "_defaultOrder": 2,
    "_isFastLaunch": false,
    "category": "General purpose",
    "gpuNum": 0,
    "hideHardwareSpecs": false,
    "memoryGiB": 16,
    "name": "ml.t3.xlarge",
    "vcpuNum": 4
   },
   {
    "_defaultOrder": 3,
    "_isFastLaunch": false,
    "category": "General purpose",
    "gpuNum": 0,
    "hideHardwareSpecs": false,
    "memoryGiB": 32,
    "name": "ml.t3.2xlarge",
    "vcpuNum": 8
   },
   {
    "_defaultOrder": 4,
    "_isFastLaunch": true,
    "category": "General purpose",
    "gpuNum": 0,
    "hideHardwareSpecs": false,
    "memoryGiB": 8,
    "name": "ml.m5.large",
    "vcpuNum": 2
   },
   {
    "_defaultOrder": 5,
    "_isFastLaunch": false,
    "category": "General purpose",
    "gpuNum": 0,
    "hideHardwareSpecs": false,
    "memoryGiB": 16,
    "name": "ml.m5.xlarge",
    "vcpuNum": 4
   },
   {
    "_defaultOrder": 6,
    "_isFastLaunch": false,
    "category": "General purpose",
    "gpuNum": 0,
    "hideHardwareSpecs": false,
    "memoryGiB": 32,
    "name": "ml.m5.2xlarge",
    "vcpuNum": 8
   },
   {
    "_defaultOrder": 7,
    "_isFastLaunch": false,
    "category": "General purpose",
    "gpuNum": 0,
    "hideHardwareSpecs": false,
    "memoryGiB": 64,
    "name": "ml.m5.4xlarge",
    "vcpuNum": 16
   },
   {
    "_defaultOrder": 8,
    "_isFastLaunch": false,
    "category": "General purpose",
    "gpuNum": 0,
    "hideHardwareSpecs": false,
    "memoryGiB": 128,
    "name": "ml.m5.8xlarge",
    "vcpuNum": 32
   },
   {
    "_defaultOrder": 9,
    "_isFastLaunch": false,
    "category": "General purpose",
    "gpuNum": 0,
    "hideHardwareSpecs": false,
    "memoryGiB": 192,
    "name": "ml.m5.12xlarge",
    "vcpuNum": 48
   },
   {
    "_defaultOrder": 10,
    "_isFastLaunch": false,
    "category": "General purpose",
    "gpuNum": 0,
    "hideHardwareSpecs": false,
    "memoryGiB": 256,
    "name": "ml.m5.16xlarge",
    "vcpuNum": 64
   },
   {
    "_defaultOrder": 11,
    "_isFastLaunch": false,
    "category": "General purpose",
    "gpuNum": 0,
    "hideHardwareSpecs": false,
    "memoryGiB": 384,
    "name": "ml.m5.24xlarge",
    "vcpuNum": 96
   },
   {
    "_defaultOrder": 12,
    "_isFastLaunch": false,
    "category": "General purpose",
    "gpuNum": 0,
    "hideHardwareSpecs": false,
    "memoryGiB": 8,
    "name": "ml.m5d.large",
    "vcpuNum": 2
   },
   {
    "_defaultOrder": 13,
    "_isFastLaunch": false,
    "category": "General purpose",
    "gpuNum": 0,
    "hideHardwareSpecs": false,
    "memoryGiB": 16,
    "name": "ml.m5d.xlarge",
    "vcpuNum": 4
   },
   {
    "_defaultOrder": 14,
    "_isFastLaunch": false,
    "category": "General purpose",
    "gpuNum": 0,
    "hideHardwareSpecs": false,
    "memoryGiB": 32,
    "name": "ml.m5d.2xlarge",
    "vcpuNum": 8
   },
   {
    "_defaultOrder": 15,
    "_isFastLaunch": false,
    "category": "General purpose",
    "gpuNum": 0,
    "hideHardwareSpecs": false,
    "memoryGiB": 64,
    "name": "ml.m5d.4xlarge",
    "vcpuNum": 16
   },
   {
    "_defaultOrder": 16,
    "_isFastLaunch": false,
    "category": "General purpose",
    "gpuNum": 0,
    "hideHardwareSpecs": false,
    "memoryGiB": 128,
    "name": "ml.m5d.8xlarge",
    "vcpuNum": 32
   },
   {
    "_defaultOrder": 17,
    "_isFastLaunch": false,
    "category": "General purpose",
    "gpuNum": 0,
    "hideHardwareSpecs": false,
    "memoryGiB": 192,
    "name": "ml.m5d.12xlarge",
    "vcpuNum": 48
   },
   {
    "_defaultOrder": 18,
    "_isFastLaunch": false,
    "category": "General purpose",
    "gpuNum": 0,
    "hideHardwareSpecs": false,
    "memoryGiB": 256,
    "name": "ml.m5d.16xlarge",
    "vcpuNum": 64
   },
   {
    "_defaultOrder": 19,
    "_isFastLaunch": false,
    "category": "General purpose",
    "gpuNum": 0,
    "hideHardwareSpecs": false,
    "memoryGiB": 384,
    "name": "ml.m5d.24xlarge",
    "vcpuNum": 96
   },
   {
    "_defaultOrder": 20,
    "_isFastLaunch": false,
    "category": "General purpose",
    "gpuNum": 0,
    "hideHardwareSpecs": true,
    "memoryGiB": 0,
    "name": "ml.geospatial.interactive",
    "supportedImageNames": [
     "sagemaker-geospatial-v1-0"
    ],
    "vcpuNum": 0
   },
   {
    "_defaultOrder": 21,
    "_isFastLaunch": true,
    "category": "Compute optimized",
    "gpuNum": 0,
    "hideHardwareSpecs": false,
    "memoryGiB": 4,
    "name": "ml.c5.large",
    "vcpuNum": 2
   },
   {
    "_defaultOrder": 22,
    "_isFastLaunch": false,
    "category": "Compute optimized",
    "gpuNum": 0,
    "hideHardwareSpecs": false,
    "memoryGiB": 8,
    "name": "ml.c5.xlarge",
    "vcpuNum": 4
   },
   {
    "_defaultOrder": 23,
    "_isFastLaunch": false,
    "category": "Compute optimized",
    "gpuNum": 0,
    "hideHardwareSpecs": false,
    "memoryGiB": 16,
    "name": "ml.c5.2xlarge",
    "vcpuNum": 8
   },
   {
    "_defaultOrder": 24,
    "_isFastLaunch": false,
    "category": "Compute optimized",
    "gpuNum": 0,
    "hideHardwareSpecs": false,
    "memoryGiB": 32,
    "name": "ml.c5.4xlarge",
    "vcpuNum": 16
   },
   {
    "_defaultOrder": 25,
    "_isFastLaunch": false,
    "category": "Compute optimized",
    "gpuNum": 0,
    "hideHardwareSpecs": false,
    "memoryGiB": 72,
    "name": "ml.c5.9xlarge",
    "vcpuNum": 36
   },
   {
    "_defaultOrder": 26,
    "_isFastLaunch": false,
    "category": "Compute optimized",
    "gpuNum": 0,
    "hideHardwareSpecs": false,
    "memoryGiB": 96,
    "name": "ml.c5.12xlarge",
    "vcpuNum": 48
   },
   {
    "_defaultOrder": 27,
    "_isFastLaunch": false,
    "category": "Compute optimized",
    "gpuNum": 0,
    "hideHardwareSpecs": false,
    "memoryGiB": 144,
    "name": "ml.c5.18xlarge",
    "vcpuNum": 72
   },
   {
    "_defaultOrder": 28,
    "_isFastLaunch": false,
    "category": "Compute optimized",
    "gpuNum": 0,
    "hideHardwareSpecs": false,
    "memoryGiB": 192,
    "name": "ml.c5.24xlarge",
    "vcpuNum": 96
   },
   {
    "_defaultOrder": 29,
    "_isFastLaunch": true,
    "category": "Accelerated computing",
    "gpuNum": 1,
    "hideHardwareSpecs": false,
    "memoryGiB": 16,
    "name": "ml.g4dn.xlarge",
    "vcpuNum": 4
   },
   {
    "_defaultOrder": 30,
    "_isFastLaunch": false,
    "category": "Accelerated computing",
    "gpuNum": 1,
    "hideHardwareSpecs": false,
    "memoryGiB": 32,
    "name": "ml.g4dn.2xlarge",
    "vcpuNum": 8
   },
   {
    "_defaultOrder": 31,
    "_isFastLaunch": false,
    "category": "Accelerated computing",
    "gpuNum": 1,
    "hideHardwareSpecs": false,
    "memoryGiB": 64,
    "name": "ml.g4dn.4xlarge",
    "vcpuNum": 16
   },
   {
    "_defaultOrder": 32,
    "_isFastLaunch": false,
    "category": "Accelerated computing",
    "gpuNum": 1,
    "hideHardwareSpecs": false,
    "memoryGiB": 128,
    "name": "ml.g4dn.8xlarge",
    "vcpuNum": 32
   },
   {
    "_defaultOrder": 33,
    "_isFastLaunch": false,
    "category": "Accelerated computing",
    "gpuNum": 4,
    "hideHardwareSpecs": false,
    "memoryGiB": 192,
    "name": "ml.g4dn.12xlarge",
    "vcpuNum": 48
   },
   {
    "_defaultOrder": 34,
    "_isFastLaunch": false,
    "category": "Accelerated computing",
    "gpuNum": 1,
    "hideHardwareSpecs": false,
    "memoryGiB": 256,
    "name": "ml.g4dn.16xlarge",
    "vcpuNum": 64
   },
   {
    "_defaultOrder": 35,
    "_isFastLaunch": false,
    "category": "Accelerated computing",
    "gpuNum": 1,
    "hideHardwareSpecs": false,
    "memoryGiB": 61,
    "name": "ml.p3.2xlarge",
    "vcpuNum": 8
   },
   {
    "_defaultOrder": 36,
    "_isFastLaunch": false,
    "category": "Accelerated computing",
    "gpuNum": 4,
    "hideHardwareSpecs": false,
    "memoryGiB": 244,
    "name": "ml.p3.8xlarge",
    "vcpuNum": 32
   },
   {
    "_defaultOrder": 37,
    "_isFastLaunch": false,
    "category": "Accelerated computing",
    "gpuNum": 8,
    "hideHardwareSpecs": false,
    "memoryGiB": 488,
    "name": "ml.p3.16xlarge",
    "vcpuNum": 64
   },
   {
    "_defaultOrder": 38,
    "_isFastLaunch": false,
    "category": "Accelerated computing",
    "gpuNum": 8,
    "hideHardwareSpecs": false,
    "memoryGiB": 768,
    "name": "ml.p3dn.24xlarge",
    "vcpuNum": 96
   },
   {
    "_defaultOrder": 39,
    "_isFastLaunch": false,
    "category": "Memory Optimized",
    "gpuNum": 0,
    "hideHardwareSpecs": false,
    "memoryGiB": 16,
    "name": "ml.r5.large",
    "vcpuNum": 2
   },
   {
    "_defaultOrder": 40,
    "_isFastLaunch": false,
    "category": "Memory Optimized",
    "gpuNum": 0,
    "hideHardwareSpecs": false,
    "memoryGiB": 32,
    "name": "ml.r5.xlarge",
    "vcpuNum": 4
   },
   {
    "_defaultOrder": 41,
    "_isFastLaunch": false,
    "category": "Memory Optimized",
    "gpuNum": 0,
    "hideHardwareSpecs": false,
    "memoryGiB": 64,
    "name": "ml.r5.2xlarge",
    "vcpuNum": 8
   },
   {
    "_defaultOrder": 42,
    "_isFastLaunch": false,
    "category": "Memory Optimized",
    "gpuNum": 0,
    "hideHardwareSpecs": false,
    "memoryGiB": 128,
    "name": "ml.r5.4xlarge",
    "vcpuNum": 16
   },
   {
    "_defaultOrder": 43,
    "_isFastLaunch": false,
    "category": "Memory Optimized",
    "gpuNum": 0,
    "hideHardwareSpecs": false,
    "memoryGiB": 256,
    "name": "ml.r5.8xlarge",
    "vcpuNum": 32
   },
   {
    "_defaultOrder": 44,
    "_isFastLaunch": false,
    "category": "Memory Optimized",
    "gpuNum": 0,
    "hideHardwareSpecs": false,
    "memoryGiB": 384,
    "name": "ml.r5.12xlarge",
    "vcpuNum": 48
   },
   {
    "_defaultOrder": 45,
    "_isFastLaunch": false,
    "category": "Memory Optimized",
    "gpuNum": 0,
    "hideHardwareSpecs": false,
    "memoryGiB": 512,
    "name": "ml.r5.16xlarge",
    "vcpuNum": 64
   },
   {
    "_defaultOrder": 46,
    "_isFastLaunch": false,
    "category": "Memory Optimized",
    "gpuNum": 0,
    "hideHardwareSpecs": false,
    "memoryGiB": 768,
    "name": "ml.r5.24xlarge",
    "vcpuNum": 96
   },
   {
    "_defaultOrder": 47,
    "_isFastLaunch": false,
    "category": "Accelerated computing",
    "gpuNum": 1,
    "hideHardwareSpecs": false,
    "memoryGiB": 16,
    "name": "ml.g5.xlarge",
    "vcpuNum": 4
   },
   {
    "_defaultOrder": 48,
    "_isFastLaunch": false,
    "category": "Accelerated computing",
    "gpuNum": 1,
    "hideHardwareSpecs": false,
    "memoryGiB": 32,
    "name": "ml.g5.2xlarge",
    "vcpuNum": 8
   },
   {
    "_defaultOrder": 49,
    "_isFastLaunch": false,
    "category": "Accelerated computing",
    "gpuNum": 1,
    "hideHardwareSpecs": false,
    "memoryGiB": 64,
    "name": "ml.g5.4xlarge",
    "vcpuNum": 16
   },
   {
    "_defaultOrder": 50,
    "_isFastLaunch": false,
    "category": "Accelerated computing",
    "gpuNum": 1,
    "hideHardwareSpecs": false,
    "memoryGiB": 128,
    "name": "ml.g5.8xlarge",
    "vcpuNum": 32
   },
   {
    "_defaultOrder": 51,
    "_isFastLaunch": false,
    "category": "Accelerated computing",
    "gpuNum": 1,
    "hideHardwareSpecs": false,
    "memoryGiB": 256,
    "name": "ml.g5.16xlarge",
    "vcpuNum": 64
   },
   {
    "_defaultOrder": 52,
    "_isFastLaunch": false,
    "category": "Accelerated computing",
    "gpuNum": 4,
    "hideHardwareSpecs": false,
    "memoryGiB": 192,
    "name": "ml.g5.12xlarge",
    "vcpuNum": 48
   },
   {
    "_defaultOrder": 53,
    "_isFastLaunch": false,
    "category": "Accelerated computing",
    "gpuNum": 4,
    "hideHardwareSpecs": false,
    "memoryGiB": 384,
    "name": "ml.g5.24xlarge",
    "vcpuNum": 96
   },
   {
    "_defaultOrder": 54,
    "_isFastLaunch": false,
    "category": "Accelerated computing",
    "gpuNum": 8,
    "hideHardwareSpecs": false,
    "memoryGiB": 768,
    "name": "ml.g5.48xlarge",
    "vcpuNum": 192
   }
  ],
  "instance_type": "ml.c5.2xlarge",
  "kernelspec": {
   "display_name": "Python 3 (Data Science)",
   "language": "python",
   "name": "python3__SAGEMAKER_INTERNAL__arn:aws:sagemaker:us-east-1:081325390199:image/datascience-1.0"
  },
  "language_info": {
   "codemirror_mode": {
    "name": "ipython",
    "version": 3
   },
   "file_extension": ".py",
   "mimetype": "text/x-python",
   "name": "python",
   "nbconvert_exporter": "python",
   "pygments_lexer": "ipython3",
   "version": "3.7.10"
  }
 },
 "nbformat": 4,
 "nbformat_minor": 5
}
