{
 "cells": [
  {
   "cell_type": "markdown",
   "id": "eb546da2-46fd-4403-89dc-8f4c06ca84ac",
   "metadata": {},
   "source": [
    "## SageMaker Pipelines Step Decorator Introduction\n",
    "\n",
    "In this example we build a sample pipeline to show the functionality of using the new @step decorator that makes lift and shift of Python code easier.\n",
    "- [Step Decorator Documentation](https://docs.aws.amazon.com/sagemaker/latest/dg/pipelines-step-decorator.html)"
   ]
  },
  {
   "cell_type": "markdown",
   "id": "c2a304e0-acfa-4d31-a06a-07279b5615cc",
   "metadata": {},
   "source": [
    "### Setup"
   ]
  },
  {
   "cell_type": "code",
   "execution_count": null,
   "id": "688d70ce-0cd1-4d06-89de-e0f1ec81d80c",
   "metadata": {},
   "outputs": [],
   "source": [
    "#!pip install -U sagemaker"
   ]
  },
  {
   "cell_type": "code",
   "execution_count": null,
   "id": "f5b2535e-9e81-4edb-80ae-af0d0910a2f2",
   "metadata": {},
   "outputs": [],
   "source": [
    "import sagemaker\n",
    "from sagemaker.workflow.function_step import step\n",
    "from sagemaker.workflow.parameters import ParameterString\n",
    "\n",
    "sagemaker_session = sagemaker.session.Session()\n",
    "role = sagemaker.get_execution_role()\n",
    "bucket = sagemaker_session.default_bucket()\n",
    "region = sagemaker_session.boto_region_name\n",
    "\n",
    "# can also have as one param if same instance type\n",
    "instance_type_one = ParameterString(name=\"AddNumsInstanceType\", default_value=\"ml.m5.xlarge\")\n",
    "instance_type_two = ParameterString(name=\"MultipleNumsInstanceType\", default_value=\"ml.m5.2xlarge\")"
   ]
  },
  {
   "cell_type": "markdown",
   "id": "8ffa20a7-60a9-40c3-abd7-4a18f61edd39",
   "metadata": {},
   "source": [
    "### Steps Setup\n",
    "We can define our steps with the @step decorator. For this dummy exercise we just include two steps, one that adds number and the second step takes that result and multiplies that number by 2."
   ]
  },
  {
   "cell_type": "code",
   "execution_count": null,
   "id": "f50edda4-b5a5-4487-ab18-99c486c95563",
   "metadata": {},
   "outputs": [],
   "source": [
    "# step one\n",
    "@step(\n",
    "    name = \"add-numbers\",\n",
    "    instance_type = instance_type_one,\n",
    "    keep_alive_period_in_seconds=300\n",
    ")\n",
    "def add_num(x: int, y: int) -> int:\n",
    "    z = x + y\n",
    "    return z"
   ]
  },
  {
   "cell_type": "code",
   "execution_count": null,
   "id": "66f2c06b-4924-4a82-a257-a8ff72f6451e",
   "metadata": {},
   "outputs": [],
   "source": [
    "# step two\n",
    "@step(\n",
    "    name = \"multiply-numbers\",\n",
    "    instance_type = instance_type_two,\n",
    "    keep_alive_period_in_seconds=300\n",
    ")\n",
    "def multiply_num(z: int) -> int:\n",
    "    res = z ** 2\n",
    "    return res"
   ]
  },
  {
   "cell_type": "code",
   "execution_count": null,
   "id": "0cc4dadd-8bf2-43c7-905e-e4154e3cf0f0",
   "metadata": {},
   "outputs": [],
   "source": [
    "# stitch together pipeline\n",
    "from sagemaker.workflow.pipeline import Pipeline\n",
    "\n",
    "res_one = add_num(3, 4)\n",
    "res_two = multiply_num(res_one)\n",
    "\n",
    "pipeline = Pipeline(\n",
    "    name=\"math-pipeline\",\n",
    "    parameters=[\n",
    "        instance_type_one,\n",
    "        instance_type_two,\n",
    "    ],\n",
    "    steps=[\n",
    "        res_two,\n",
    "    ],\n",
    ")"
   ]
  },
  {
   "cell_type": "markdown",
   "id": "575fc361-ec22-41f0-8e53-93dda7ab49b9",
   "metadata": {},
   "source": [
    "### Pipeline Execution"
   ]
  },
  {
   "cell_type": "code",
   "execution_count": null,
   "id": "25456416-7efb-4ef6-b683-ec2864d79703",
   "metadata": {},
   "outputs": [],
   "source": [
    "pipeline.upsert(role_arn=role)\n",
    "execution = pipeline.start()\n",
    "execution.describe()\n",
    "execution.wait()"
   ]
  },
  {
   "cell_type": "code",
   "execution_count": null,
   "id": "5a7a652a-6e75-4517-99be-e89e2c6842c8",
   "metadata": {},
   "outputs": [],
   "source": [
    "execution.list_steps()"
   ]
  }
 ],
 "metadata": {
  "kernelspec": {
   "display_name": "Python 3 (ipykernel)",
   "language": "python",
   "name": "python3"
  },
  "language_info": {
   "codemirror_mode": {
    "name": "ipython",
    "version": 3
   },
   "file_extension": ".py",
   "mimetype": "text/x-python",
   "name": "python",
   "nbconvert_exporter": "python",
   "pygments_lexer": "ipython3",
   "version": "3.10.13"
  }
 },
 "nbformat": 4,
 "nbformat_minor": 5
}
